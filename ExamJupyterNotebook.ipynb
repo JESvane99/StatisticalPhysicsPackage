{
 "cells": [
  {
   "cell_type": "markdown",
   "metadata": {},
   "source": [
    "|Course:|Eksamens nr.:| Dato:| \n",
    "|:---|:----:|----:|\n",
    "|Statistisk fysik of faststof fysik|183795|17/01/2024|"
   ]
  },
  {
   "cell_type": "markdown",
   "metadata": {},
   "source": [
    "# Problem 11\n",
    "\n",
    "![Alt text](figures/ExamJupyterNotebook/image.png)"
   ]
  },
  {
   "cell_type": "markdown",
   "metadata": {},
   "source": [
    "![Alt text](figures/ExamJupyterNotebook/image-1.png)"
   ]
  },
  {
   "cell_type": "code",
   "execution_count": 7,
   "metadata": {},
   "outputs": [
    {
     "data": {
      "text/latex": [
       "$\\displaystyle n_{1} e^{- \\beta \\epsilon_{1}} + n_{2} e^{- \\beta \\epsilon_{2}} + n_{3} e^{- \\beta \\epsilon_{3}} + n_{4} e^{- \\beta \\epsilon_{4}}$"
      ],
      "text/plain": [
       "n_1*exp(-beta*epsilon_1) + n_2*exp(-beta*epsilon_2) + n_3*exp(-beta*epsilon_3) + n_4*exp(-beta*epsilon_4)"
      ]
     },
     "metadata": {},
     "output_type": "display_data"
    }
   ],
   "source": [
    "from sympy import symbols, exp\n",
    "\n",
    "import numpy as np\n",
    "\n",
    "epss = symbols(\"epsilon_1:5\")\n",
    "\n",
    "ns = symbols(\"n_1:5\")\n",
    "\n",
    "beta = symbols(\"beta\", positive=True)\n",
    "\n",
    "Z = 0\n",
    "\n",
    "for i, j in zip(ns, epss):\n",
    "    Z += exp(-beta * j) * i\n",
    "\n",
    "display(Z)\n"
   ]
  },
  {
   "cell_type": "markdown",
   "metadata": {},
   "source": [
    "![Alt text](figures/ExamJupyterNotebook/image-2.png)"
   ]
  },
  {
   "cell_type": "code",
   "execution_count": 8,
   "metadata": {},
   "outputs": [
    {
     "data": {
      "text/latex": [
       "The average energy is:"
      ],
      "text/plain": [
       "<IPython.core.display.Latex object>"
      ]
     },
     "metadata": {},
     "output_type": "display_data"
    },
    {
     "data": {
      "text/latex": [
       "$\\displaystyle \\frac{\\epsilon_{1} n_{1} e^{- \\beta \\epsilon_{1}} + \\epsilon_{2} n_{2} e^{- \\beta \\epsilon_{2}} + \\epsilon_{3} n_{3} e^{- \\beta \\epsilon_{3}} + \\epsilon_{4} n_{4} e^{- \\beta \\epsilon_{4}}}{n_{1} e^{- \\beta \\epsilon_{1}} + n_{2} e^{- \\beta \\epsilon_{2}} + n_{3} e^{- \\beta \\epsilon_{3}} + n_{4} e^{- \\beta \\epsilon_{4}}}$"
      ],
      "text/plain": [
       "(epsilon_1*n_1*exp(-beta*epsilon_1) + epsilon_2*n_2*exp(-beta*epsilon_2) + epsilon_3*n_3*exp(-beta*epsilon_3) + epsilon_4*n_4*exp(-beta*epsilon_4))/(n_1*exp(-beta*epsilon_1) + n_2*exp(-beta*epsilon_2) + n_3*exp(-beta*epsilon_3) + n_4*exp(-beta*epsilon_4))"
      ]
     },
     "metadata": {},
     "output_type": "display_data"
    },
    {
     "data": {
      "text/latex": [
       "Evaluation of average energy at $beta \\Rightarrow 0$"
      ],
      "text/plain": [
       "<IPython.core.display.Latex object>"
      ]
     },
     "metadata": {},
     "output_type": "display_data"
    },
    {
     "data": {
      "text/latex": [
       "$\\displaystyle \\frac{\\epsilon_{1} n_{1} + \\epsilon_{2} n_{2} + \\epsilon_{3} n_{3} + \\epsilon_{4} n_{4}}{n_{1} + n_{2} + n_{3} + n_{4}}$"
      ],
      "text/plain": [
       "(epsilon_1*n_1 + epsilon_2*n_2 + epsilon_3*n_3 + epsilon_4*n_4)/(n_1 + n_2 + n_3 + n_4)"
      ]
     },
     "metadata": {},
     "output_type": "display_data"
    },
    {
     "name": "stdout",
     "output_type": "stream",
     "text": [
      "\n",
      "Could not evaluate for beta->infinity\n",
      "use this expansion of the avereage energy to do it yourself:\n"
     ]
    },
    {
     "data": {
      "text/latex": [
       "$\\displaystyle \\frac{\\epsilon_{1} n_{1}}{n_{1} + n_{2} e^{\\beta \\epsilon_{1}} e^{- \\beta \\epsilon_{2}} + n_{3} e^{\\beta \\epsilon_{1}} e^{- \\beta \\epsilon_{3}} + n_{4} e^{\\beta \\epsilon_{1}} e^{- \\beta \\epsilon_{4}}} + \\frac{\\epsilon_{2} n_{2}}{n_{1} e^{- \\beta \\epsilon_{1}} e^{\\beta \\epsilon_{2}} + n_{2} + n_{3} e^{\\beta \\epsilon_{2}} e^{- \\beta \\epsilon_{3}} + n_{4} e^{\\beta \\epsilon_{2}} e^{- \\beta \\epsilon_{4}}} + \\frac{\\epsilon_{3} n_{3}}{n_{1} e^{- \\beta \\epsilon_{1}} e^{\\beta \\epsilon_{3}} + n_{2} e^{- \\beta \\epsilon_{2}} e^{\\beta \\epsilon_{3}} + n_{3} + n_{4} e^{\\beta \\epsilon_{3}} e^{- \\beta \\epsilon_{4}}} + \\frac{\\epsilon_{4} n_{4}}{n_{1} e^{- \\beta \\epsilon_{1}} e^{\\beta \\epsilon_{4}} + n_{2} e^{- \\beta \\epsilon_{2}} e^{\\beta \\epsilon_{4}} + n_{3} e^{- \\beta \\epsilon_{3}} e^{\\beta \\epsilon_{4}} + n_{4}}$"
      ],
      "text/plain": [
       "epsilon_1*n_1/(n_1 + n_2*exp(beta*epsilon_1)*exp(-beta*epsilon_2) + n_3*exp(beta*epsilon_1)*exp(-beta*epsilon_3) + n_4*exp(beta*epsilon_1)*exp(-beta*epsilon_4)) + epsilon_2*n_2/(n_1*exp(-beta*epsilon_1)*exp(beta*epsilon_2) + n_2 + n_3*exp(beta*epsilon_2)*exp(-beta*epsilon_3) + n_4*exp(beta*epsilon_2)*exp(-beta*epsilon_4)) + epsilon_3*n_3/(n_1*exp(-beta*epsilon_1)*exp(beta*epsilon_3) + n_2*exp(-beta*epsilon_2)*exp(beta*epsilon_3) + n_3 + n_4*exp(beta*epsilon_3)*exp(-beta*epsilon_4)) + epsilon_4*n_4/(n_1*exp(-beta*epsilon_1)*exp(beta*epsilon_4) + n_2*exp(-beta*epsilon_2)*exp(beta*epsilon_4) + n_3*exp(-beta*epsilon_3)*exp(beta*epsilon_4) + n_4)"
      ]
     },
     "metadata": {},
     "output_type": "display_data"
    }
   ],
   "source": [
    "from SttPhscsPckg.PartitionFunctions import PF_average_energy\n",
    "\n",
    "res = PF_average_energy(Z, beta)"
   ]
  },
  {
   "cell_type": "markdown",
   "metadata": {},
   "source": [
    "<font color='red'>\n",
    "\n",
    "as $ \\beta = \\frac{1}{kT}$ we have for $\\beta \\rightarrow 0 \\; , T \\rightarrow \\infty$ and vice verca\n",
    "\n",
    "therefore one can see from the expanded mean energy one can see that \n",
    "\n",
    "![Alt text](figures/ExamJupyterNotebook/image-3.png)\n",
    "\n",
    "\n",
    "That is at $T=0$ the system is in its ground state, and the mean energy is therefore:\n",
    "\n",
    "$$\n",
    "\\overline E_{ground state} = \\epsilon_1 + \\epsilon_2 + \\epsilon_3 + \\epsilon_4\n",
    "$$\n",
    "\n",
    "\n",
    "And at $T=\\infty$ all energies are equally probable and therefore\n",
    "\n",
    "$$\n",
    "\\overline E_{high\\, T} = \\frac{\\epsilon_1 n_1 + \\epsilon_2 n_2 + \\epsilon_3 n_3 + \\epsilon_4 n_4 }{n_1 + n_2 + n_3 + n_4}\n",
    "$$\n",
    " \n",
    "</font>"
   ]
  },
  {
   "cell_type": "markdown",
   "metadata": {},
   "source": [
    "----\n",
    "\n",
    "----\n",
    "\n",
    "# Problem 1\n",
    "\n",
    "![Alt text](figures/ExamJupyterNotebook/image-4.png)\n",
    "\n",
    "![Alt text](figures/ExamJupyterNotebook/image-5.png)\n",
    "\n",
    "![Alt text](figures/ExamJupyterNotebook/image-6.png)"
   ]
  },
  {
   "cell_type": "markdown",
   "metadata": {},
   "source": [
    "![Alt text](figures/ExamJupyterNotebook/image-8.png)"
   ]
  },
  {
   "cell_type": "markdown",
   "metadata": {},
   "source": [
    "![Alt text](figures/ExamJupyterNotebook/image-11.png)\n",
    "\n"
   ]
  },
  {
   "cell_type": "markdown",
   "metadata": {},
   "source": [
    "<font color='red'>\n",
    "\n",
    "the basis is one atom\n",
    "\n",
    "</font>"
   ]
  },
  {
   "cell_type": "markdown",
   "metadata": {},
   "source": [
    "![Alt text](figures/ExamJupyterNotebook/image-9.png)"
   ]
  },
  {
   "cell_type": "markdown",
   "metadata": {},
   "source": [
    "![Alt text](figures/ExamJupyterNotebook/image-10.png)"
   ]
  },
  {
   "cell_type": "markdown",
   "metadata": {},
   "source": [
    "--------\n",
    "\n",
    "------\n",
    "\n",
    "# 2\n",
    "\n",
    "![Alt text](figures/ExamJupyterNotebook/image-12.png)"
   ]
  },
  {
   "cell_type": "markdown",
   "metadata": {},
   "source": [
    "<font color='red'>\n",
    "\n",
    "Equation (1) implies that\n",
    "\n",
    "![Alt text](figures/ExamJupyterNotebook/image-13.png)\n",
    "\n",
    "\n",
    "as all nonvector variables are integers the sum of them can only give an integer, $l$ and therefore\n",
    "\n",
    "\\begin{align*}\n",
    "\n",
    "\\mathbf{G \\cdot R} &= 2 \\pi \\cdot l\\\\\n",
    "\n",
    "\\Updownarrow \\\\\n",
    "\n",
    "e^{i\\mathbf{G \\cdot R}} &= e^{i\\, 2\\pi \\, l} \\\\\n",
    "\n",
    "\\Updownarrow &(\\text{by Eulers formula})\\\\\n",
    "\n",
    "e^{i\\, 2\\pi \\, l} &= 1\n",
    "\n",
    "\\end{align*}\n",
    "\n",
    "</font>"
   ]
  },
  {
   "cell_type": "markdown",
   "metadata": {},
   "source": [
    "------\n",
    "\n",
    "------\n",
    "\n",
    "\n",
    "# 3\n",
    "\n",
    "![Alt text](figures/ExamJupyterNotebook/image-14.png)\n"
   ]
  },
  {
   "cell_type": "markdown",
   "metadata": {},
   "source": [
    "<font color='red'>\n",
    "\n",
    "\n",
    "\\begin{align*}\n",
    "\n",
    "\\omega =& \\nu k \\\\\n",
    "\n",
    "\\Updownarrow &\\\\\n",
    "\n",
    "\\nu =& \\frac{\\omega}{k} \\\\\n",
    "\n",
    "\\Updownarrow &\\\\\n",
    "\n",
    "\\nu =& 0 \\; or \\; \\infty\n",
    "\\end{align*}\n",
    "\n",
    "\n",
    "</font>"
   ]
  },
  {
   "cell_type": "markdown",
   "metadata": {},
   "source": []
  },
  {
   "cell_type": "markdown",
   "metadata": {},
   "source": [
    "-------\n",
    "\n",
    "--------\n",
    "\n",
    "# 8\n",
    "\n",
    "![Alt text](figures/ExamJupyterNotebook/image-15.png)\n",
    "\n",
    "![Alt text](figures/ExamJupyterNotebook/image-16.png)\n",
    "\n",
    "![Alt text](figures/ExamJupyterNotebook/image-17.png)"
   ]
  },
  {
   "cell_type": "markdown",
   "metadata": {},
   "source": [
    "<font color ='red'>\n",
    "\n",
    "the left has an indirect gap, seen by the lowest energy for CB and highest energy og VB not aligning\n",
    "\n",
    "right has direct gap, seen by highest energy VB and lowest energy CB aligning\n",
    "\n",
    "</font>"
   ]
  },
  {
   "cell_type": "markdown",
   "metadata": {},
   "source": [
    "![Alt text](figures/ExamJupyterNotebook/image-18.png)"
   ]
  },
  {
   "cell_type": "markdown",
   "metadata": {},
   "source": [
    "<font color='red'>\n",
    "\n",
    "effective mass is given by:\n",
    "\n",
    "![Alt text](figures/ExamJupyterNotebook/image-19.png)\n",
    "\n",
    "\n",
    "</font>"
   ]
  },
  {
   "cell_type": "markdown",
   "metadata": {},
   "source": [
    "<font color='red'>\n",
    "\n",
    "the effective mass is described by the invers of the sharpness of the peak and therefore it would look as if the left semiconductor has a bigger effective mass. \n",
    "\n",
    "</font>"
   ]
  },
  {
   "cell_type": "markdown",
   "metadata": {},
   "source": [
    "-----\n",
    "\n",
    "----\n",
    "\n",
    "# 7\n",
    "\n",
    "![Alt text](figures/ExamJupyterNotebook/image-20.png)\n",
    "\n"
   ]
  },
  {
   "cell_type": "markdown",
   "metadata": {},
   "source": [
    "<font color='red'>\n",
    "\n",
    "density of states\n",
    "\n",
    "![Alt text](figures/ExamJupyterNotebook/image-22.png)\n",
    "\n",
    "With probability of occupation. very rough sketch to show the probability more clear.\n",
    "\n",
    "![Alt text](figures/ExamJupyterNotebook/image-21.png)\n",
    "\n",
    "</font>"
   ]
  },
  {
   "cell_type": "markdown",
   "metadata": {},
   "source": [
    "------\n",
    "\n",
    "------\n",
    "\n",
    "# 13 \n",
    "\n",
    "![Alt text](figures/ExamJupyterNotebook/image-23.png)"
   ]
  },
  {
   "cell_type": "markdown",
   "metadata": {},
   "source": [
    "![Alt text](figures/ExamJupyterNotebook/image-24.png)\n",
    "\n"
   ]
  },
  {
   "cell_type": "markdown",
   "metadata": {},
   "source": [
    "<font color='red'>\n",
    "\n",
    "to discuss this i will use the figure 3.8 from \"an introduction to thermal physics\" by Daniel V. Schroeder  as a sketch of the entropy as a function of of energy.\n",
    "\n",
    "the thing to keep in mind is that the temperature is the reciprocal of slope of the graph.\n",
    "\n",
    "</font>"
   ]
  },
  {
   "cell_type": "markdown",
   "metadata": {},
   "source": [
    "![Alt text](figures/ExamJupyterNotebook/image-26.png)\n"
   ]
  },
  {
   "cell_type": "markdown",
   "metadata": {},
   "source": [
    "<font color='red'>\n",
    "\n",
    "1 has steeper negative slope after equilibrium\n",
    "\n",
    "2 has less steep slope after equilibrium\n",
    "\n",
    "This means that 1 gains energy but gets lower temperature $T<T_1$ and 2 loses energy but gets higher temperature $T>_2$\n",
    "\n",
    "the temperature at equilibrium is still negative.   \n",
    "\n",
    "</font>"
   ]
  },
  {
   "cell_type": "markdown",
   "metadata": {},
   "source": [
    "-----\n",
    "\n",
    "\n",
    "------\n",
    "\n",
    "\n",
    "# 14\n",
    "\n",
    "![Alt text](figures/ExamJupyterNotebook/image-28.png)"
   ]
  },
  {
   "cell_type": "markdown",
   "metadata": {},
   "source": [
    "![Alt text](figures/ExamJupyterNotebook/image-27.png)"
   ]
  },
  {
   "cell_type": "markdown",
   "metadata": {},
   "source": [
    "![Alt text](figures/ExamJupyterNotebook/image-29.png)"
   ]
  },
  {
   "cell_type": "markdown",
   "metadata": {},
   "source": [
    "-----\n",
    "\n",
    "-----\n",
    "\n",
    "\n",
    "# 12\n",
    "\n",
    "![Alt text](figures/ExamJupyterNotebook/image-30.png)\n"
   ]
  },
  {
   "cell_type": "markdown",
   "metadata": {},
   "source": [
    "<font color='red'>\n",
    "\n",
    "From Schroeder eq 7.72 it is shown that the average number of particles in a mode\n",
    "\n",
    "</font>"
   ]
  },
  {
   "cell_type": "markdown",
   "metadata": {},
   "source": [
    "![Alt text](figures/ExamJupyterNotebook/image-37.png)"
   ]
  },
  {
   "cell_type": "markdown",
   "metadata": {},
   "source": [
    "<font color='red'>\n",
    "\n",
    "given the problems setup we have that $a = \\frac{1}{T}$\n",
    "\n",
    "\n",
    "</font>\n"
   ]
  },
  {
   "cell_type": "markdown",
   "metadata": {},
   "source": []
  },
  {
   "cell_type": "markdown",
   "metadata": {},
   "source": [
    "-----\n",
    "\n",
    "-----\n",
    "\n",
    "\n",
    "# 4 \n",
    "\n",
    "![Alt text](figures/ExamJupyterNotebook/image-31.png)\n",
    "\n"
   ]
  },
  {
   "cell_type": "markdown",
   "metadata": {},
   "source": [
    "<font color='red'>\n",
    "\n",
    "beryllium has the higher molar as the heat capacity of gold is proportionate to $T_D^{-3}$\n",
    "\n",
    "which will definetly be less than for Berillium\n",
    "\n",
    "</font>"
   ]
  },
  {
   "cell_type": "markdown",
   "metadata": {},
   "source": [
    "------\n",
    "\n",
    "------\n",
    "# 5 \n",
    "\n",
    "![Alt text](figures/ExamJupyterNotebook/image-32.png)"
   ]
  },
  {
   "cell_type": "markdown",
   "metadata": {},
   "source": [
    "![Alt text](figures/ExamJupyterNotebook/image-33.png)"
   ]
  },
  {
   "cell_type": "markdown",
   "metadata": {},
   "source": [
    "-----\n",
    "\n",
    "-----\n",
    "\n",
    "# 6\n",
    "\n",
    "![Alt text](figures/ExamJupyterNotebook/image-34.png)"
   ]
  },
  {
   "cell_type": "markdown",
   "metadata": {},
   "source": [
    "<font color='red'>\n",
    "\n",
    "table 5.1 in \"solid state physics an introduction third edition\" by Philip Hofmann states that Beryllium is a metal with conduction electron density of $24.7 \\cdot 10^{28} m^{-3}$\n",
    "\n",
    "</font>"
   ]
  },
  {
   "cell_type": "markdown",
   "metadata": {},
   "source": [
    "------\n",
    "\n",
    "-----\n",
    "\n",
    "# 9 \n",
    "\n",
    "![Alt text](figures/ExamJupyterNotebook/image-35.png)"
   ]
  },
  {
   "cell_type": "markdown",
   "metadata": {},
   "source": [
    "<font color='red'>\n",
    "\n",
    "as seen from equatoin 9.2 from \"solid state physics an introduction third edition\" by Philip Hofmann the polarization is described by\n",
    "\n",
    "$$\n",
    "P = \\frac{N}{V} p\n",
    "$$\n",
    "\n",
    "and as air has a lot lower density than silicon, it of course has a lower dielectric constant\n",
    "\n",
    "</font>"
   ]
  },
  {
   "cell_type": "markdown",
   "metadata": {},
   "source": [
    "\n",
    "----\n",
    "\n",
    "-----\n",
    "\n",
    "\n",
    "# 10 \n",
    "\n",
    "![Alt text](figures/ExamJupyterNotebook/image-36.png)"
   ]
  },
  {
   "cell_type": "markdown",
   "metadata": {},
   "source": [
    "<font color='red'>\n",
    "\n",
    "$$\n",
    "M(0) = \\mu _B \\cdot \\frac{N}{V}\n",
    "$$\n",
    "\n",
    "$$\n",
    "M_{atom}(0) = \\mu _B \\cdot \\frac{1}{V}\n",
    "$$\n",
    "\n",
    "$$\n",
    "M_{unitcell}(0) = \\mu _B \\cdot \\frac{4}{a^3}\n",
    "$$\n",
    "\n",
    "</font>"
   ]
  },
  {
   "cell_type": "markdown",
   "metadata": {},
   "source": []
  },
  {
   "cell_type": "markdown",
   "metadata": {},
   "source": []
  }
 ],
 "metadata": {
  "kernelspec": {
   "display_name": "Python 3",
   "language": "python",
   "name": "python3"
  },
  "language_info": {
   "codemirror_mode": {
    "name": "ipython",
    "version": 3
   },
   "file_extension": ".py",
   "mimetype": "text/x-python",
   "name": "python",
   "nbconvert_exporter": "python",
   "pygments_lexer": "ipython3",
   "version": "3.12.0"
  }
 },
 "nbformat": 4,
 "nbformat_minor": 2
}
