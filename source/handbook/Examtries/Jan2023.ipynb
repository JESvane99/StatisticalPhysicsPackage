{
 "cells": [
  {
   "cell_type": "markdown",
   "metadata": {},
   "source": [
    "# Exam January 2023\n",
    "-------\n",
    "\n",
    "|***Author:***  | ExamID                                | **Date:** | \\today        | \n",
    "|:----|:-----|:-----|:------|\n",
    "|**Course:**    | Statistisk fysik og faststoffysik     | **Mood:** | Sad but okay  | \n",
    "\n",
    " "
   ]
  },
  {
   "cell_type": "markdown",
   "metadata": {},
   "source": [
    "![Alt text](../../../figures/Jan2023/image.png)\n",
    "\n",
    "![Alt text](../../../figures/Jan2023/image-1.png)\n",
    "\n"
   ]
  },
  {
   "cell_type": "markdown",
   "metadata": {},
   "source": [
    "----\n",
    "![Alt text](../../../figures/Jan2023/image-3.png)"
   ]
  },
  {
   "cell_type": "markdown",
   "metadata": {},
   "source": [
    "\n",
    "![Alt text](../../../figures/Jan2023/image-2.png)"
   ]
  },
  {
   "cell_type": "markdown",
   "metadata": {},
   "source": [
    "----\n",
    "<a id=\"1.2\"></a>\n",
    "![Alt text](../../../figures/Jan2023/image-4.png)\n",
    "\n",
    "<font color='red'> the right one is three times smaller. As can be seen from</font> [the above](#1.2)\n"
   ]
  },
  {
   "cell_type": "markdown",
   "metadata": {},
   "source": [
    "------\n",
    "#2\n",
    "------\n",
    "<a id=\"2\"></a>\n",
    "![Alt text](../../../figures/Jan2023/image-5.png)\n",
    "\n",
    "\n"
   ]
  },
  {
   "cell_type": "markdown",
   "metadata": {},
   "source": [
    "<a id=\"fig2\"></a>\n",
    "![fig 2](../../../figures/Jan2023/image-6.png)\n"
   ]
  },
  {
   "cell_type": "markdown",
   "metadata": {},
   "source": [
    "![Alt text](../../../figures/Jan2023/image-7.png)"
   ]
  },
  {
   "cell_type": "markdown",
   "metadata": {},
   "source": [
    "<a id=\"2.1\"></a>\n",
    "![Alt text](../../../figures/Jan2023/image-8.png)\n",
    "\n",
    "<font color='red'>\n",
    "The laue condition for a crystal:\n",
    "\n",
    "$$\n",
    "\\mathbf{k' - k = G}\n",
    "$$\n",
    "\n",
    "When this is true there will be constructive interference\n",
    "</font>"
   ]
  },
  {
   "cell_type": "markdown",
   "metadata": {},
   "source": [
    "![Alt text](../../../figures/Jan2023/image-10.png)"
   ]
  },
  {
   "cell_type": "markdown",
   "metadata": {},
   "source": [
    "![Alt text](../../../figures/Jan2023/image-9.png)\n",
    "\n",
    "-----"
   ]
  },
  {
   "cell_type": "markdown",
   "metadata": {},
   "source": [
    "#3\n",
    "------\n",
    "\n",
    "![Alt text](../../../figures/Jan2023/image-11.png)"
   ]
  },
  {
   "cell_type": "markdown",
   "metadata": {},
   "source": [
    "<font color='red'>\n",
    "\n",
    "when the periodic boundary conditions are met $k$ is restricted to \n",
    "\n",
    "$$\n",
    "k = \\frac{2 \\pi}{aN}\\, m\n",
    "$$\n",
    "\n",
    "where $N$ is number of unit cells, $a$ is the lattice constant, and $m$ is an integer.\n",
    "\n",
    "$k$ is also defined as $k = \\frac{2 \\pi}{\\lambda}$ and from this we can solve for $m$\n",
    "\n",
    "</font>"
   ]
  },
  {
   "cell_type": "code",
   "execution_count": 13,
   "metadata": {},
   "outputs": [
    {
     "data": {
      "text/plain": [
       "[16.6666666666667]"
      ]
     },
     "execution_count": 13,
     "metadata": {},
     "output_type": "execute_result"
    }
   ],
   "source": [
    "import sympy as sp\n",
    "\n",
    "m = sp.symbols(\"m\")\n",
    "\n",
    "\n",
    "k1 = 2 * sp.pi / 3\n",
    "\n",
    "k2 = 2 * sp.pi / (0.5 * 100) * m\n",
    "\n",
    "sp.solve(sp.Eq(k1, k2), m)"
   ]
  },
  {
   "cell_type": "markdown",
   "metadata": {},
   "source": [
    "<font color='red'>\n",
    "It is not allowed\n",
    "</font>\n",
    "\n",
    "----"
   ]
  },
  {
   "cell_type": "markdown",
   "metadata": {},
   "source": [
    "#4\n",
    "-----\n",
    "\n",
    "![Alt text](../../../figures/Jan2023/image-12.png)\n",
    "\n"
   ]
  },
  {
   "cell_type": "markdown",
   "metadata": {},
   "source": [
    "![Alt text](../../../figures/Jan2023/image-13.png)"
   ]
  },
  {
   "cell_type": "markdown",
   "metadata": {},
   "source": [
    "<font color='red'>\n",
    "\n",
    "At this condition the frequenzy can be described as $\\omega (k) = \\nu \\, k$  \n",
    "and the wave acts as the propagation of soundwaves with $\\nu$  \n",
    "being the velocity of sound in the this solid.\n",
    "\n",
    "The situation for the atom 6 unitcells will be that it is pushed alongside the other atoms. This can be seen from Figure [4.2](fig42)\n",
    "\n",
    "</font>"
   ]
  },
  {
   "cell_type": "markdown",
   "metadata": {},
   "source": [
    "<a id=\"fig42\"></a>\n",
    "![Alt text](../../../figures/Jan2023/image-14.png)  \n",
    "*taken from [Ref: 1](#references)*"
   ]
  },
  {
   "cell_type": "markdown",
   "metadata": {},
   "source": [
    "![Alt text](../../../figures/Jan2023/image-15.png)"
   ]
  },
  {
   "cell_type": "markdown",
   "metadata": {},
   "source": [
    "<font color='red'>\n",
    "\n",
    "For this condition the wavelength is the shortest possible. This can be seen from the phasedifference between atoms:\n",
    "\n",
    "$$\n",
    "u _{n+1} (t) = u\\, e^{i(ka(n+1)-\\omega t)} = e^{ika}\\, u _n (t)\n",
    "$$\n",
    "\n",
    "when $k = \\frac{\\pi}{a}$ the equation above turns to $u_{n+1} = -u_n$\n",
    "\n",
    "this then implies that for $n = 6$ it will move in the opposite direction to the reference atom.   \n",
    "\n",
    "</font>"
   ]
  },
  {
   "cell_type": "markdown",
   "metadata": {},
   "source": [
    "----\n",
    "\n",
    "#5\n",
    "-----\n",
    "\n",
    "![Alt text](../../../figures/Jan2023/image-16.png)"
   ]
  },
  {
   "cell_type": "markdown",
   "metadata": {},
   "source": [
    "## get back to this\n"
   ]
  },
  {
   "cell_type": "markdown",
   "metadata": {},
   "source": []
  },
  {
   "cell_type": "markdown",
   "metadata": {},
   "source": [
    "-----\n",
    "\n",
    "#6\n",
    "----\n",
    "\n",
    "![Alt text](../../../figures/Jan2023/image-17.png)"
   ]
  },
  {
   "cell_type": "markdown",
   "metadata": {},
   "source": [
    "![Alt text](../../../figures/Jan2023/image-18.png)"
   ]
  },
  {
   "cell_type": "markdown",
   "metadata": {},
   "source": [
    "<font color='red'>\n",
    "\n",
    "written mathematically we have:\n",
    "\n",
    "$$\n",
    "\\Theta_D = \\frac{\\hbar \\omega_D}{k_B}\\\\ \\& \\\\ \\omega_D^3 = 6 \\pi^2 \\frac{N}{V} \\nu^3\\\\\n",
    "\\Updownarrow \\\\\n",
    "\\Theta_D \\propto \\left(\\frac{N}{V}\\right)^{\\frac{1}{3}}\n",
    "$$\n",
    "\n",
    "where $\\frac{N}{V}$ is the density of the crystal. Bigger atoms has a lower density and therefor Si has a higher Debye temperature\n",
    "\n",
    "</font>"
   ]
  },
  {
   "cell_type": "markdown",
   "metadata": {},
   "source": [
    "----\n",
    "\n",
    "#7\n",
    "----\n",
    "\n",
    "![Alt text](../../../figures/Jan2023/image-19.png)\n",
    "\n",
    "\n",
    "\n",
    "\n"
   ]
  },
  {
   "cell_type": "markdown",
   "metadata": {},
   "source": [
    "![Alt text](../../../figures/Jan2023/image-20.png)"
   ]
  },
  {
   "cell_type": "markdown",
   "metadata": {},
   "source": [
    "<font color='red'>\n",
    "\n",
    "\\begin{align*}\n",
    "\\psi_k(0) &= e^{i\\frac{\\pi}{a} \\cdot 0}\\, u_k(0)\\\\\n",
    "\n",
    "&= u_k(0)\\\\\n",
    "\n",
    "&=\\alpha\n",
    "\n",
    "\\end{align*}\n",
    "\n",
    "From Eulers formula it is known that\n",
    "\n",
    "![Alt text](../../../figures/Jan2023/image-21.png)\n",
    "\n",
    "**which means**\n",
    "\n",
    "\\begin{align*}\n",
    "\n",
    "\\psi_k(a) &= e^{i\\frac{\\pi}{a} \\cdot a}\\, u_k(a)\\\\\n",
    "\n",
    "&= e^{i\\pi}\\, u_k(a)\\\\\n",
    "\n",
    "&= -u_k(a)\n",
    "\n",
    "\\end{align*}\n",
    "</font>"
   ]
  },
  {
   "cell_type": "markdown",
   "metadata": {},
   "source": [
    "----\n",
    "\n",
    "#8\n",
    "----\n",
    "\n",
    "![Alt text](../../../figures/Jan2023/image-22.png)"
   ]
  },
  {
   "cell_type": "markdown",
   "metadata": {},
   "source": [
    "![Alt text](../../../figures/Jan2023/image-23.png)"
   ]
  },
  {
   "cell_type": "markdown",
   "metadata": {},
   "source": [
    "![Alt text](../../../figures/Jan2023/image-24.png)"
   ]
  },
  {
   "cell_type": "markdown",
   "metadata": {},
   "source": [
    "<font color='red'>\n",
    "\n",
    "There are 8 electrons pr unitcell as there are 4 bands which are filled. \n",
    "\n",
    "</font>"
   ]
  },
  {
   "cell_type": "markdown",
   "metadata": {},
   "source": [
    "![Alt text](../../../figures/Jan2023/image-25.png)"
   ]
  },
  {
   "cell_type": "markdown",
   "metadata": {},
   "source": []
  },
  {
   "cell_type": "markdown",
   "metadata": {},
   "source": [
    "----\n",
    "\n",
    "#9\n",
    "-----\n",
    "\n",
    "![Alt text](../../../figures/Jan2023/image-26.png)"
   ]
  },
  {
   "cell_type": "markdown",
   "metadata": {},
   "source": [
    "<font color='red'>\n",
    "\n",
    "$$\n",
    "T_c \\propto M^{\\frac{1}{2}}\n",
    "$$\n",
    "\n",
    "the sample would have a lower $T_c$\n",
    "\n",
    "The vibrational properties of a solid depends on the mass of the ions as $\\omega = \\frac{\\gamma}{M}$\n",
    "\n",
    "</font>"
   ]
  },
  {
   "cell_type": "markdown",
   "metadata": {},
   "source": [
    "![Alt text](../../../figures/Jan2023/image-27.png)"
   ]
  },
  {
   "cell_type": "markdown",
   "metadata": {},
   "source": []
  },
  {
   "cell_type": "markdown",
   "metadata": {},
   "source": [
    "----\n",
    "\n",
    "#10\n",
    "----\n",
    "\n",
    "![Alt text](../../../figures/Jan2023/image-28.png)\n"
   ]
  },
  {
   "cell_type": "markdown",
   "metadata": {},
   "source": [
    "![](../../../figures/Jan2023/image-31.png)  \n",
    "*[Ref: 1](#references)*"
   ]
  },
  {
   "cell_type": "markdown",
   "metadata": {},
   "source": [
    "<font color='red'>\n",
    "\n",
    "For indistinguishable particles the Sum turns out to be \n",
    "\n",
    "$$\n",
    "Z = \\frac{1}{2} \\, e^{-\\beta \\epsilon n 2}\n",
    "$$\n",
    "\n",
    "where $Z_1$ is the partition function for a single particle\n",
    "</font>"
   ]
  },
  {
   "cell_type": "markdown",
   "metadata": {},
   "source": [
    "![Alt text](../../../figures/Jan2023/image-30.png)\n"
   ]
  },
  {
   "cell_type": "markdown",
   "metadata": {},
   "source": [
    "-----\n",
    "\n",
    "#11\n",
    "----\n",
    "\n",
    "![Alt text](../../../figures/Jan2023/image-32.png)\n"
   ]
  },
  {
   "cell_type": "markdown",
   "metadata": {},
   "source": [
    "![Alt text](../../../figures/Jan2023/image-33.png)"
   ]
  },
  {
   "cell_type": "markdown",
   "metadata": {},
   "source": []
  },
  {
   "cell_type": "markdown",
   "metadata": {},
   "source": []
  },
  {
   "cell_type": "markdown",
   "metadata": {},
   "source": []
  },
  {
   "cell_type": "markdown",
   "metadata": {},
   "source": []
  },
  {
   "cell_type": "markdown",
   "metadata": {},
   "source": []
  },
  {
   "cell_type": "markdown",
   "metadata": {},
   "source": []
  },
  {
   "cell_type": "markdown",
   "metadata": {},
   "source": [
    "# References\n",
    "\n",
    "1: Solid State Physics: An Introduction, Second Edition. Philip Hofmann.  \n",
    "    © 2015 Wiley-VCH Verlag GmbH & Co. KGaA. Published 2015 by Wiley-VCH Verlag GmbH & Co. KGaA."
   ]
  }
 ],
 "metadata": {
  "kernelspec": {
   "display_name": "Python 3",
   "language": "python",
   "name": "python3"
  },
  "language_info": {
   "codemirror_mode": {
    "name": "ipython",
    "version": 3
   },
   "file_extension": ".py",
   "mimetype": "text/x-python",
   "name": "python",
   "nbconvert_exporter": "python",
   "pygments_lexer": "ipython3",
   "version": "3.12.0"
  }
 },
 "nbformat": 4,
 "nbformat_minor": 2
}
